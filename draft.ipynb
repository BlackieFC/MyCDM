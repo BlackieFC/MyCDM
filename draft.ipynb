{
 "cells": [
  {
   "cell_type": "markdown",
   "metadata": {},
   "source": [
    "### 检查嵌入分布"
   ]
  },
  {
   "cell_type": "code",
   "execution_count": null,
   "metadata": {},
   "outputs": [],
   "source": [
    "import numpy as np\n",
    "import matplotlib.pyplot as plt\n",
    "\n",
    "\n",
    "# 读取数据\n",
    "arr = np.load('data/NIPS34/all/exer_embeds.npy')\n",
    "print(arr.shape)\n",
    "\n",
    "# 计算每一行的L2范数\n",
    "row_norms = np.linalg.norm(arr, axis=1)\n",
    "\n",
    "# 绘制直方图\n",
    "plt.figure(figsize=(10, 6))\n",
    "plt.hist(row_norms, bins=50, color='skyblue', edgecolor='black', alpha=0.7)\n",
    "plt.title('Row-wise L2 Norm Distribution')\n",
    "plt.xlabel('Norm Value')\n",
    "plt.ylabel('Frequency')\n",
    "plt.grid(axis='y', alpha=0.3)\n",
    "plt.show()\n",
    "\n",
    "# 返回计算结果（前5行示例）\n",
    "print(\"前5行的范数值：\")\n",
    "print(row_norms[:5])"
   ]
  },
  {
   "cell_type": "markdown",
   "metadata": {},
   "source": [
    "### 将csv格式的数据转换为NCDM标准输入格式"
   ]
  },
  {
   "cell_type": "code",
   "execution_count": 11,
   "metadata": {},
   "outputs": [],
   "source": [
    "import pandas as pd\n",
    "import json\n",
    "import ast\n",
    "\n",
    "\n",
    "# 指定CSV文件的路径\n",
    "# senario = 'Algebra'\n",
    "# senario = 'GeometryandMeasure'\n",
    "senario = 'Number'\n",
    "\n",
    "# file_name = 'train'\n",
    "# file_name = 'val'\n",
    "file_name = 'test'\n",
    "\n",
    "root_dir = f'data/NIPS34/{senario}'\n",
    "file_in = f'{root_dir}/{file_name}.csv'\n",
    "file_out = f'{root_dir}/{file_name}.json'\n",
    "\n",
    "# 使用pandas的read_csv方法读取CSV文件\n",
    "df = pd.read_csv(file_in)\n",
    "# 重命名指定的列\n",
    "df.rename(columns={'QuestionId':'exer_id', 'UserId':'user_id', 'IsCorrect':'score', 'Kc':'knowledge_code'}, inplace=True)\n",
    "# 删除多余的列\n",
    "df.drop(columns=['Time', 'AnswerValue', 'CorrectAnswer', 'AnswerId'], inplace=True)\n",
    "# 将每一行转换为字典，并存储在列表中\n",
    "dict_list = df.to_dict(orient='records')\n",
    "\n",
    "# 格式规范化\n",
    "for elem in dict_list:\n",
    "    elem['knowledge_code'] = ast.literal_eval(elem['knowledge_code'])\n",
    "\n",
    "# 保存为json\n",
    "with open(file_out, 'w', encoding='utf-8') as json_file:\n",
    "    json.dump(dict_list, json_file, indent=4, ensure_ascii=False)\n"
   ]
  }
 ],
 "metadata": {
  "kernelspec": {
   "display_name": "Python 3",
   "language": "python",
   "name": "python3"
  },
  "language_info": {
   "codemirror_mode": {
    "name": "ipython",
    "version": 3
   },
   "file_extension": ".py",
   "mimetype": "text/x-python",
   "name": "python",
   "nbconvert_exporter": "python",
   "pygments_lexer": "ipython3",
   "version": "3.11.5"
  }
 },
 "nbformat": 4,
 "nbformat_minor": 2
}
