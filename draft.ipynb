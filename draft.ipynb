{
 "cells": [
  {
   "cell_type": "markdown",
   "metadata": {},
   "source": [
    "### 检查嵌入分布"
   ]
  },
  {
   "cell_type": "code",
   "execution_count": null,
   "metadata": {},
   "outputs": [],
   "source": [
    "import numpy as np\n",
    "import matplotlib.pyplot as plt\n",
    "\n",
    "\n",
    "# 读取数据\n",
    "arr = np.load('data/NIPS34/all/exer_embeds.npy')\n",
    "print(arr.shape)\n",
    "\n",
    "# 计算每一行的L2范数\n",
    "row_norms = np.linalg.norm(arr, axis=1)\n",
    "\n",
    "# 绘制直方图\n",
    "plt.figure(figsize=(10, 6))\n",
    "plt.hist(row_norms, bins=50, color='skyblue', edgecolor='black', alpha=0.7)\n",
    "plt.title('Row-wise L2 Norm Distribution')\n",
    "plt.xlabel('Norm Value')\n",
    "plt.ylabel('Frequency')\n",
    "plt.grid(axis='y', alpha=0.3)\n",
    "plt.show()\n",
    "\n",
    "# 返回计算结果（前5行示例）\n",
    "print(\"前5行的范数值：\")\n",
    "print(row_norms[:5])"
   ]
  },
  {
   "cell_type": "markdown",
   "metadata": {},
   "source": [
    "### 将csv格式的数据转换为NCDM标准输入格式"
   ]
  },
  {
   "cell_type": "code",
   "execution_count": 5,
   "metadata": {},
   "outputs": [],
   "source": [
    "import pandas as pd\n",
    "import json\n",
    "import ast\n",
    "\n",
    "\n",
    "# 指定CSV文件的路径\n",
    "# senario = 'Algebra'\n",
    "# senario = 'GeometryandMeasure'\n",
    "# senario = 'Number'\n",
    "senario = 'Algebra_cold'\n",
    "\n",
    "# file_name = 'train'\n",
    "# file_name = 'val'\n",
    "file_name = 'test'\n",
    "\n",
    "root_dir = f'data/NIPS34/{senario}'\n",
    "file_in = f'{root_dir}/{file_name}.csv'\n",
    "file_out = f'{root_dir}/{file_name}.json'\n",
    "\n",
    "# 使用pandas的read_csv方法读取CSV文件\n",
    "df = pd.read_csv(file_in)\n",
    "# 重命名指定的列\n",
    "df.rename(columns={'QuestionId':'exer_id', 'UserId':'user_id', 'IsCorrect':'score', 'Kc':'knowledge_code'}, inplace=True)\n",
    "# 删除多余的列\n",
    "df.drop(columns=['Time', 'AnswerValue', 'CorrectAnswer', 'AnswerId'], inplace=True)\n",
    "# 将每一行转换为字典，并存储在列表中\n",
    "dict_list = df.to_dict(orient='records')\n",
    "\n",
    "# 格式规范化\n",
    "for elem in dict_list:\n",
    "    elem['knowledge_code'] = ast.literal_eval(elem['knowledge_code'])\n",
    "\n",
    "# 保存为json\n",
    "with open(file_out, 'w', encoding='utf-8') as json_file:\n",
    "    json.dump(dict_list, json_file, indent=4, ensure_ascii=False)\n"
   ]
  },
  {
   "cell_type": "markdown",
   "metadata": {},
   "source": [
    "### 逆操作：从json转csv"
   ]
  },
  {
   "cell_type": "code",
   "execution_count": 8,
   "metadata": {},
   "outputs": [],
   "source": [
    "import pandas as pd\n",
    "import json\n",
    "\n",
    "\n",
    "# 指定场景参数\n",
    "senario = 'longtail'\n",
    "\n",
    "# file_name = 'train'\n",
    "file_name = 'test'\n",
    "\n",
    "root_dir = f'data/NIPS34/{senario}'\n",
    "file_in = f'{root_dir}/{file_name}.json'\n",
    "file_out = f'{root_dir}/{file_name}.csv'\n",
    "\n",
    "# 读取JSON文件\n",
    "with open(file_in, 'r', encoding='utf-8') as f:\n",
    "    dict_list = json.load(f)\n",
    "\n",
    "# 转换为DataFrame\n",
    "df = pd.DataFrame(dict_list)\n",
    "\n",
    "# 将列表转换回字符串格式\n",
    "df['knowledge_code'] = df['knowledge_code'].astype(str)\n",
    "\n",
    "# 列名逆向映射恢复\n",
    "df.rename(columns={\n",
    "    'exer_id': 'item_id',\n",
    "    'user_id': 'user_id',\n",
    "    'score': 'score'\n",
    "    # 'knowledge_code': 'Kc'\n",
    "}, inplace=True)\n",
    "\n",
    "# # 添加原始被删除的列（用空值填充）\n",
    "# for col in ['Time', 'AnswerValue', 'CorrectAnswer', 'AnswerId']:\n",
    "#     df[col] = pd.NA  # 使用pandas的缺失值标记\n",
    "\n",
    "# 按原始列顺序排序（假设原始列顺序如下）\n",
    "column_order = [\n",
    "    'user_id', \n",
    "    'item_id', \n",
    "    'score'\n",
    "]\n",
    "df = df[column_order]\n",
    "\n",
    "# 保存为CSV\n",
    "df.to_csv(file_out, index=False, encoding='utf-8')"
   ]
  },
  {
   "cell_type": "markdown",
   "metadata": {},
   "source": [
    "### 统计高频和长尾KC"
   ]
  },
  {
   "cell_type": "code",
   "execution_count": 9,
   "metadata": {},
   "outputs": [
    {
     "name": "stdout",
     "output_type": "stream",
     "text": [
      "[高频题目] 出现超过10次的QuestionId：594个\n",
      "[199, 911, 625, 855, 520, 83, 528, 547, 533, 676, 856, 460, 50, 815, 47, 727, 178, 761, 502, 634, 599, 836, 494, 421, 312, 91, 22, 670, 639, 449, 391, 862, 409, 844, 342, 635, 941, 209, 463, 185, 290, 939, 236, 943, 446, 372, 283, 527, 749, 887, 337, 592, 638, 461, 293, 134, 831, 596, 637, 40, 813, 278, 265, 295, 45, 583, 614, 525, 664, 75, 745, 605, 333, 349, 311, 49, 39, 56, 101, 263, 885, 190, 587, 84, 360, 183, 335, 282, 457, 195, 626, 150, 868, 325, 585, 138, 850, 148, 808, 184, 417, 118, 249, 177, 923, 210, 38, 858, 297, 740, 751, 830, 790, 119, 8, 601, 932, 52, 383, 90, 212, 475, 804, 673, 82, 889, 732, 644, 834, 480, 522, 472, 787, 260, 852, 376, 945, 92, 629, 292, 193, 133, 882, 506, 451, 789, 53, 186, 24, 495, 154, 924, 767, 129, 645, 213, 816, 896, 439, 34, 611, 76, 361, 368, 402, 31, 16, 539, 707, 559, 88, 624, 615, 435, 304, 37, 211, 493, 800, 365, 327, 328, 158, 145, 554, 805, 369, 160, 423, 579, 908, 485, 403, 392, 147, 513, 86, 838, 116, 64, 120, 509, 436, 795, 206, 628, 863, 507, 755, 674, 197, 465, 231, 503, 772, 691, 202, 617, 710, 298, 627, 406, 496, 54, 18, 310, 289, 122, 279, 261, 171, 492, 413, 207, 653, 898, 343, 589, 729, 920, 683, 201, 241, 709, 501, 106, 226, 326, 307, 806, 468, 622, 384, 837, 498, 748, 204, 396, 456, 237, 267, 829, 523, 588, 251, 682, 66, 157, 811, 452, 14, 474, 79, 535, 514, 840, 29, 690, 688, 717, 927, 823, 4, 555, 424, 636, 351, 612, 262, 661, 766, 12, 600, 657, 155, 870, 434, 259, 907, 227, 264, 770, 78, 731, 105, 20, 700, 750, 530, 586, 277, 508, 935, 577, 560, 667, 85, 488, 792, 571, 891, 130, 776, 341, 218, 641, 684, 364, 162, 711, 536, 10, 877, 609, 291, 734, 222, 491, 716, 916, 685, 152, 581, 256, 385, 380, 814, 440, 317, 880, 572, 26, 594, 933, 483, 467, 878, 662, 487, 550, 835, 564, 737, 137, 97, 13, 124, 350, 431, 404, 200, 280, 125, 306, 63, 414, 176, 359, 490, 534, 110, 845, 818, 489, 871, 437, 174, 398, 872, 801, 302, 275, 725, 354, 247, 353, 191, 576, 375, 778, 415, 822, 582, 575, 848, 476, 386, 537, 288, 5, 358, 510, 301, 74, 17, 215, 620, 132, 36, 853, 9, 705, 756, 515, 308, 316, 378, 330, 430, 723, 741, 41, 221, 561, 681, 910, 411, 573, 631, 865, 652, 720, 869, 172, 466, 324, 866, 917, 229, 232, 286, 697, 321, 181, 268, 874, 455, 339, 334, 23, 542, 595, 355, 151, 647, 258, 713, 569, 901, 198, 779, 482, 780, 377, 272, 532, 900, 320, 43, 944, 168, 516, 607, 454, 395, 35, 857, 458, 925, 356, 188, 42, 102, 471, 793, 399, 98, 864, 702, 329, 336, 743, 121, 443, 381, 929, 189, 883, 619, 807, 140, 796, 450, 309, 568, 422, 144, 173, 632, 531, 366, 504, 649, 401, 266, 556, 693, 544, 799, 797, 164, 109, 240, 763, 752, 728, 149, 538, 28, 115, 418, 937, 936, 400, 899, 407, 651, 524, 708, 444, 192, 426, 303, 812, 719, 593, 340, 765, 447, 666, 107, 179, 557, 648, 374, 861, 909, 775, 892, 578, 425, 876, 843, 208, 68, 318, 703, 893, 442, 821, 180, 694, 724, 481, 126, 817, 58, 886, 136, 771, 774, 419, 61, 842]\n",
      "\n",
      "[低频题目] 出现不超过3次的QuestionId：332个\n",
      "[921, 706, 655, 613, 159, 602, 234, 71, 196, 584, 479, 69, 228, 567, 80, 553, 675, 300, 759, 100, 344, 163, 60, 305, 257, 922, 390, 698, 225, 918, 128, 141, 131, 671, 175, 621, 296, 851, 773, 7, 633, 73, 245, 96, 429, 19, 21, 608, 757, 928, 730, 603, 832, 153, 905, 1, 847, 117, 630, 860, 597, 108, 254, 270, 888, 271, 322, 104, 67, 598, 203, 112, 562, 833, 127, 839, 276, 32, 782, 784, 884, 114, 511, 739, 512, 580, 783, 99, 940, 895, 521, 253, 408, 382, 224, 942, 930, 692, 946, 747, 405, 352, 55, 517, 646, 348, 926, 938, 642, 658, 859, 819, 216, 764, 156, 754, 441, 873, 828, 902, 182, 123, 820, 142, 726, 546, 712, 610, 640, 663, 826, 338, 72, 478, 679, 650, 166, 798, 672, 30, 809, 217, 846, 89, 269, 3, 791, 802, 219, 464, 788, 762, 669, 604, 473, 48, 867, 794, 57, 111, 825, 545, 214, 103, 704, 416, 469, 500, 526, 323, 285, 686, 373, 904, 281, 459, 0, 529, 931, 934, 758, 563, 497, 389, 412, 420, 274, 768, 505, 875, 62, 659, 252, 827, 744, 919, 519, 255, 371, 558, 6, 689, 462, 453, 93, 484, 220, 894, 432, 738, 46, 590, 135, 551, 591, 677, 246, 243, 654, 854, 643, 223, 445, 11, 273, 543, 233, 695, 51, 541, 540, 25, 319, 77, 736, 549, 777, 250, 803, 230, 769, 890, 696, 687, 913, 906, 699, 187, 70, 248, 947, 616, 362, 618, 915, 665, 781, 746, 170, 394, 849, 167, 94, 370, 701, 714, 146, 824, 65, 566, 59, 565, 735, 656, 165, 623, 388, 448, 914, 314, 346, 379, 486, 363, 242, 552, 721, 903, 95, 470, 161, 332, 718, 44, 87, 786, 742, 331, 235, 2, 438, 367, 410, 27, 753, 785, 433, 347, 879, 668, 570, 678, 194, 143, 169, 733, 912, 387, 574, 284, 205, 238, 881, 81, 33, 294, 841, 810, 345, 139, 499, 15]\n",
      "高频数据已保存至：data/NIPS34/longtail/test_highfreq.csv（共 180058 行）\n",
      "低频数据已保存至：data/NIPS34/longtail/test_longtail.csv（共 96452 行）\n"
     ]
    }
   ],
   "source": [
    "import pandas as pd\n",
    "\n",
    "\n",
    "# 文件路径\n",
    "senario = 'longtail'\n",
    "file_name = 'test'\n",
    "root_dir = f'data/NIPS34/{senario}'\n",
    "csv_train = f'{root_dir}/train.csv'\n",
    "csv_test = f'{root_dir}/{file_name}.csv'\n",
    "output_high = f'{root_dir}/{file_name}_highfreq.csv'  # 高频结果文件\n",
    "output_low = f'{root_dir}/{file_name}_longtail.csv'   # 低频结果文件\n",
    "\n",
    "# 读取CSV文件\n",
    "df = pd.read_csv(csv_train)\n",
    "df_test = pd.read_csv(csv_test)\n",
    "\n",
    "# 统计QuestionId出现次数\n",
    "question_counts = df['item_id'].value_counts()\n",
    "\n",
    "# 获取不同频次的题目ID列表\n",
    "high_freq = question_counts[question_counts > 10].index.tolist()   # 计数>10的ID\n",
    "low_freq = question_counts[question_counts <= 3].index.tolist()    # 计数≤3的ID\n",
    "\n",
    "print(f'[高频题目] 出现超过10次的QuestionId：{len(high_freq)}个')\n",
    "print(high_freq)\n",
    "\n",
    "print(f'\\n[低频题目] 出现不超过3次的QuestionId：{len(low_freq)}个')\n",
    "print(low_freq)\n",
    "\n",
    "# 提取高频题目数据\n",
    "high_df = df_test[df_test['item_id'].isin(high_freq)]\n",
    "# 提取低频题目数据\n",
    "low_df = df_test[df_test['item_id'].isin(low_freq)]\n",
    "\n",
    "# 保存结果（保留原始列结构）\n",
    "high_df.to_csv(output_high, index=False)\n",
    "low_df.to_csv(output_low, index=False)\n",
    "\n",
    "print(f'高频数据已保存至：{output_high}（共 {len(high_df)} 行）')\n",
    "print(f'低频数据已保存至：{output_low}（共 {len(low_df)} 行）')\n"
   ]
  },
  {
   "cell_type": "markdown",
   "metadata": {},
   "source": [
    "### check冷启动情景"
   ]
  },
  {
   "cell_type": "code",
   "execution_count": 2,
   "metadata": {},
   "outputs": [
    {
     "name": "stdout",
     "output_type": "stream",
     "text": [
      "set()\n"
     ]
    }
   ],
   "source": [
    "import pandas as pd\n",
    "\n",
    "\n",
    "# 文件路径\n",
    "senario = 'student_all'\n",
    "root_dir = f'data/NIPS34/{senario}'\n",
    "csv_train = f'{root_dir}/train.csv'\n",
    "csv_test = f'{root_dir}/test.csv'\n",
    "\n",
    "# 读取CSV文件\n",
    "df = pd.read_csv(csv_train)\n",
    "df_test = pd.read_csv(csv_test)\n",
    "\n",
    "# 统计QuestionId出现次数\n",
    "question_counts = df['QuestionId'].value_counts()\n",
    "# 获取不同频次的题目ID列表\n",
    "pid_train = question_counts.index.tolist()   # 计数>10的ID\n",
    "\n",
    "# 统计QuestionId出现次数\n",
    "question_counts = df_test['QuestionId'].value_counts()\n",
    "# 获取不同频次的题目ID列表\n",
    "pid_test = question_counts.index.tolist()   # 计数>10的ID\n",
    "\n",
    "print(set(pid_train) & set(pid_test))\n"
   ]
  }
 ],
 "metadata": {
  "kernelspec": {
   "display_name": "pytorch",
   "language": "python",
   "name": "python3"
  },
  "language_info": {
   "codemirror_mode": {
    "name": "ipython",
    "version": 3
   },
   "file_extension": ".py",
   "mimetype": "text/x-python",
   "name": "python",
   "nbconvert_exporter": "python",
   "pygments_lexer": "ipython3",
   "version": "3.11.5"
  }
 },
 "nbformat": 4,
 "nbformat_minor": 2
}
