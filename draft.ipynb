{
 "cells": [
  {
   "cell_type": "markdown",
   "metadata": {},
   "source": [
    "TBD"
   ]
  },
  {
   "cell_type": "code",
   "execution_count": null,
   "metadata": {},
   "outputs": [],
   "source": [
    "import numpy as np\n",
    "import matplotlib.pyplot as plt\n",
    "\n",
    "\n",
    "# 读取数据\n",
    "arr = np.load('data/NIPS34/all/exer_embeds.npy')\n",
    "print(arr.shape)\n",
    "\n",
    "# 计算每一行的L2范数\n",
    "row_norms = np.linalg.norm(arr, axis=1)\n",
    "\n",
    "# 绘制直方图\n",
    "plt.figure(figsize=(10, 6))\n",
    "plt.hist(row_norms, bins=50, color='skyblue', edgecolor='black', alpha=0.7)\n",
    "plt.title('Row-wise L2 Norm Distribution')\n",
    "plt.xlabel('Norm Value')\n",
    "plt.ylabel('Frequency')\n",
    "plt.grid(axis='y', alpha=0.3)\n",
    "plt.show()\n",
    "\n",
    "# 返回计算结果（前5行示例）\n",
    "print(\"前5行的范数值：\")\n",
    "print(row_norms[:5])"
   ]
  }
 ],
 "metadata": {
  "kernelspec": {
   "display_name": "pytorch",
   "language": "python",
   "name": "python3"
  },
  "language_info": {
   "name": "python",
   "version": "3.11.5"
  }
 },
 "nbformat": 4,
 "nbformat_minor": 2
}
